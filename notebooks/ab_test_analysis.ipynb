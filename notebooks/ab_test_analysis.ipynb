{
 "cells": [
  {
   "cell_type": "markdown",
   "id": "da1aba4a-bbcc-41f4-9270-6b5c77e82512",
   "metadata": {},
   "source": [
    "# iGaming retention test\n",
    "\n",
    "> Data Generator A/B groups using Python\n",
    "> \n",
    "> Two group of people splitted, between treatment and control group"
   ]
  },
  {
   "cell_type": "code",
   "execution_count": 1,
   "id": "56430de4-0cd0-4274-83d8-7839e7b293b8",
   "metadata": {},
   "outputs": [],
   "source": [
    "# Step 1: importing libraries, setting seed and number of players\n",
    "import numpy as np\n",
    "import pandas as pd"
   ]
  },
  {
   "cell_type": "code",
   "execution_count": 2,
   "id": "83a88200-5c2a-4cb3-aeaa-ed33f524039d",
   "metadata": {},
   "outputs": [],
   "source": [
    "np.random.seed(69)\n",
    "n = 70000"
   ]
  },
  {
   "cell_type": "code",
   "execution_count": 3,
   "id": "36dbec8a-a438-4e63-9b46-6203e2009030",
   "metadata": {},
   "outputs": [],
   "source": [
    "# Step 2: Group assignment\n",
    "groups = np.random.choice(['control', 'treatment'], size=n, p=[0.5, 0.5])\n",
    "\n",
    "# Step 3: Base engagement metrics (for both groups)\n",
    "sessions = np.random.poisson(lam=5, size=n)\n",
    "deposits = np.random.gamma(shape=2, scale=50, size=n)\n",
    "\n",
    "# Step 4: Treatment group effect with more sessions and deposits\n",
    "sessions += np.where(groups == 'treatment', np.random.randint(0, 3, size=n), 0)\n",
    "deposits += np.where(groups == 'treatment', np.random.normal(15, 10, size=n), 0)\n",
    "\n",
    "# Step 5: Feature usage (higher in treatment)\n",
    "feature_used = np.where(groups == 'treatment',\n",
    "                        np.random.binomial(1, 0.7, size=n),\n",
    "                        np.random.binomial(1, 0.4, size=n))"
   ]
  },
  {
   "cell_type": "code",
   "execution_count": 4,
   "id": "1bd2c685-e9ee-4e5c-b7ea-ed971af64e75",
   "metadata": {},
   "outputs": [],
   "source": [
    "# Step 6: Churn generation: different in treatment group\n",
    "base_churn = np.random.binomial(1, 0.45, size=n)\n",
    "treatment_adjustment = np.where(groups == 'treatment', -0.1, 0)\n",
    "churn_prob = np.clip(0.45 + treatment_adjustment - 0.02 * feature_used - 0.01 * (sessions > 6), 0, 1)\n",
    "churn = np.random.binomial(1, churn_prob)"
   ]
  },
  {
   "cell_type": "code",
   "execution_count": null,
   "id": "5c8ffbca-fdbd-43bb-a51b-9ff1b7afcd34",
   "metadata": {},
   "outputs": [],
   "source": [
    "# Step 7: assemble dataset and print it\n",
    "df = pd.DataFrame({\n",
    "    'user_id': np.arange(1, n+1),\n",
    "    'group': groups,\n",
    "    'sessions': sessions,\n",
    "    'deposits': np.round(deposits, 2),\n",
    "    'feature_used': feature_used,\n",
    "    'churn': churn\n",
    "})\n",
    "\n",
    "df.to_csv('simulated_users.csv', index=False)\n",
    "print(\"✅ Dataset saved to simulated_users.csv\")"
   ]
  },
  {
   "cell_type": "markdown",
   "id": "5dd051d7-03c7-41a2-b86d-ba8626b15e9b",
   "metadata": {},
   "source": [
    "# A/B Test Analysis\n",
    "# Checking the behaviour and results for both groups: treated and controlled "
   ]
  },
  {
   "cell_type": "code",
   "execution_count": 7,
   "id": "4ec9f0f9-955d-4480-9c00-a23b9ca7b025",
   "metadata": {},
   "outputs": [],
   "source": [
    "# Step 1: importing missing libraries\n",
    "import seaborn as sns\n",
    "import matplotlib.pyplot as plt\n",
    "from scipy.stats import chi2_contingency"
   ]
  },
  {
   "cell_type": "code",
   "execution_count": 14,
   "id": "13ea02ea-7d8c-43da-975c-860303939e4f",
   "metadata": {},
   "outputs": [
    {
     "data": {
      "text/html": [
       "<div>\n",
       "<style scoped>\n",
       "    .dataframe tbody tr th:only-of-type {\n",
       "        vertical-align: middle;\n",
       "    }\n",
       "\n",
       "    .dataframe tbody tr th {\n",
       "        vertical-align: top;\n",
       "    }\n",
       "\n",
       "    .dataframe thead th {\n",
       "        text-align: right;\n",
       "    }\n",
       "</style>\n",
       "<table border=\"1\" class=\"dataframe\">\n",
       "  <thead>\n",
       "    <tr style=\"text-align: right;\">\n",
       "      <th></th>\n",
       "      <th>user_id</th>\n",
       "      <th>group</th>\n",
       "      <th>sessions</th>\n",
       "      <th>deposits</th>\n",
       "      <th>feature_used</th>\n",
       "      <th>churn</th>\n",
       "    </tr>\n",
       "  </thead>\n",
       "  <tbody>\n",
       "    <tr>\n",
       "      <th>0</th>\n",
       "      <td>1</td>\n",
       "      <td>control</td>\n",
       "      <td>2</td>\n",
       "      <td>176.25</td>\n",
       "      <td>1</td>\n",
       "      <td>1</td>\n",
       "    </tr>\n",
       "    <tr>\n",
       "      <th>1</th>\n",
       "      <td>2</td>\n",
       "      <td>treatment</td>\n",
       "      <td>7</td>\n",
       "      <td>119.93</td>\n",
       "      <td>1</td>\n",
       "      <td>1</td>\n",
       "    </tr>\n",
       "    <tr>\n",
       "      <th>2</th>\n",
       "      <td>3</td>\n",
       "      <td>control</td>\n",
       "      <td>4</td>\n",
       "      <td>85.04</td>\n",
       "      <td>0</td>\n",
       "      <td>1</td>\n",
       "    </tr>\n",
       "    <tr>\n",
       "      <th>3</th>\n",
       "      <td>4</td>\n",
       "      <td>treatment</td>\n",
       "      <td>5</td>\n",
       "      <td>279.48</td>\n",
       "      <td>0</td>\n",
       "      <td>0</td>\n",
       "    </tr>\n",
       "    <tr>\n",
       "      <th>4</th>\n",
       "      <td>5</td>\n",
       "      <td>treatment</td>\n",
       "      <td>5</td>\n",
       "      <td>57.19</td>\n",
       "      <td>1</td>\n",
       "      <td>0</td>\n",
       "    </tr>\n",
       "    <tr>\n",
       "      <th>...</th>\n",
       "      <td>...</td>\n",
       "      <td>...</td>\n",
       "      <td>...</td>\n",
       "      <td>...</td>\n",
       "      <td>...</td>\n",
       "      <td>...</td>\n",
       "    </tr>\n",
       "    <tr>\n",
       "      <th>69995</th>\n",
       "      <td>69996</td>\n",
       "      <td>treatment</td>\n",
       "      <td>5</td>\n",
       "      <td>38.98</td>\n",
       "      <td>1</td>\n",
       "      <td>1</td>\n",
       "    </tr>\n",
       "    <tr>\n",
       "      <th>69996</th>\n",
       "      <td>69997</td>\n",
       "      <td>treatment</td>\n",
       "      <td>7</td>\n",
       "      <td>64.57</td>\n",
       "      <td>1</td>\n",
       "      <td>1</td>\n",
       "    </tr>\n",
       "    <tr>\n",
       "      <th>69997</th>\n",
       "      <td>69998</td>\n",
       "      <td>control</td>\n",
       "      <td>5</td>\n",
       "      <td>159.79</td>\n",
       "      <td>1</td>\n",
       "      <td>1</td>\n",
       "    </tr>\n",
       "    <tr>\n",
       "      <th>69998</th>\n",
       "      <td>69999</td>\n",
       "      <td>control</td>\n",
       "      <td>2</td>\n",
       "      <td>101.41</td>\n",
       "      <td>0</td>\n",
       "      <td>1</td>\n",
       "    </tr>\n",
       "    <tr>\n",
       "      <th>69999</th>\n",
       "      <td>70000</td>\n",
       "      <td>treatment</td>\n",
       "      <td>6</td>\n",
       "      <td>49.65</td>\n",
       "      <td>1</td>\n",
       "      <td>0</td>\n",
       "    </tr>\n",
       "  </tbody>\n",
       "</table>\n",
       "<p>70000 rows × 6 columns</p>\n",
       "</div>"
      ],
      "text/plain": [
       "       user_id      group  sessions  deposits  feature_used  churn\n",
       "0            1    control         2    176.25             1      1\n",
       "1            2  treatment         7    119.93             1      1\n",
       "2            3    control         4     85.04             0      1\n",
       "3            4  treatment         5    279.48             0      0\n",
       "4            5  treatment         5     57.19             1      0\n",
       "...        ...        ...       ...       ...           ...    ...\n",
       "69995    69996  treatment         5     38.98             1      1\n",
       "69996    69997  treatment         7     64.57             1      1\n",
       "69997    69998    control         5    159.79             1      1\n",
       "69998    69999    control         2    101.41             0      1\n",
       "69999    70000  treatment         6     49.65             1      0\n",
       "\n",
       "[70000 rows x 6 columns]"
      ]
     },
     "metadata": {},
     "output_type": "display_data"
    }
   ],
   "source": [
    "# Step 2: reading csv file generated previously\n",
    "df = pd.read_csv('simulated_users.csv')\n",
    "\n",
    "display(df)"
   ]
  },
  {
   "cell_type": "code",
   "execution_count": 16,
   "id": "3015d208-60b2-40a4-8865-50a8a7cc2f67",
   "metadata": {},
   "outputs": [
    {
     "data": {
      "text/html": [
       "<div>\n",
       "<style scoped>\n",
       "    .dataframe tbody tr th:only-of-type {\n",
       "        vertical-align: middle;\n",
       "    }\n",
       "\n",
       "    .dataframe tbody tr th {\n",
       "        vertical-align: top;\n",
       "    }\n",
       "\n",
       "    .dataframe thead th {\n",
       "        text-align: right;\n",
       "    }\n",
       "</style>\n",
       "<table border=\"1\" class=\"dataframe\">\n",
       "  <thead>\n",
       "    <tr style=\"text-align: right;\">\n",
       "      <th></th>\n",
       "      <th>group</th>\n",
       "      <th>retained</th>\n",
       "      <th>retention_rate_%</th>\n",
       "    </tr>\n",
       "  </thead>\n",
       "  <tbody>\n",
       "    <tr>\n",
       "      <th>0</th>\n",
       "      <td>control</td>\n",
       "      <td>0.568116</td>\n",
       "      <td>56.81</td>\n",
       "    </tr>\n",
       "    <tr>\n",
       "      <th>1</th>\n",
       "      <td>treatment</td>\n",
       "      <td>0.666199</td>\n",
       "      <td>66.62</td>\n",
       "    </tr>\n",
       "  </tbody>\n",
       "</table>\n",
       "</div>"
      ],
      "text/plain": [
       "       group  retained  retention_rate_%\n",
       "0    control  0.568116             56.81\n",
       "1  treatment  0.666199             66.62"
      ]
     },
     "metadata": {},
     "output_type": "display_data"
    }
   ],
   "source": [
    "# Step 3: defining Retention = 1 - churn\n",
    "df['retained'] = 1 - df['churn']\n",
    "\n",
    "# Step 4: group stats calculations\n",
    "summary = df.groupby('group')['retained'].mean().reset_index()\n",
    "summary['retention_rate_%'] = (summary['retained'] * 100).round(2)\n",
    "display(summary)"
   ]
  },
  {
   "cell_type": "code",
   "execution_count": 24,
   "id": "985ff1a0-1ef7-4721-a7b4-e24fa42926f0",
   "metadata": {},
   "outputs": [
    {
     "name": "stdout",
     "output_type": "stream",
     "text": [
      "Chi-square: 712.02\n",
      "P-value: 0.0000\n"
     ]
    }
   ],
   "source": [
    "# Step 3: significance test using Chi-square\n",
    "contingency = pd.crosstab(df['group'], df['retained'])\n",
    "chi2, p, dof, expected = chi2_contingency(contingency)\n",
    "print(f\"Chi-square: {chi2:.2f}\\nP-value: {p:.4f}\")"
   ]
  },
  {
   "cell_type": "code",
   "execution_count": 25,
   "id": "415154ec-e6e4-4fad-a908-77f1a5701fd2",
   "metadata": {},
   "outputs": [
    {
     "name": "stderr",
     "output_type": "stream",
     "text": [
      "/tmp/ipykernel_7923/984571590.py:2: FutureWarning: \n",
      "\n",
      "Passing `palette` without assigning `hue` is deprecated and will be removed in v0.14.0. Assign the `x` variable to `hue` and set `legend=False` for the same effect.\n",
      "\n",
      "  sns.barplot(x='group', y='retention_rate_%', data=summary, palette='viridis')\n"
     ]
    },
    {
     "data": {
      "image/png": "[encoded data removed]",
      "text/plain": [
       "<Figure size 640x480 with 1 Axes>"
      ]
     },
     "metadata": {},
     "output_type": "display_data"
    }
   ],
   "source": [
    "# Step 4: Plot retention comparison\n",
    "sns.barplot(x='group', y='retention_rate_%', data=summary, palette='viridis')\n",
    "plt.title('Retention Rate by Group')\n",
    "plt.ylabel('Retention (%)')\n",
    "plt.savefig('retention_rates.png', bbox_inches='tight')\n",
    "plt.show()"
   ]
  },
  {
   "cell_type": "markdown",
   "id": "029c0893-9605-42e8-b747-794bc32d336e",
   "metadata": {},
   "source": [
    "# Churn model\n",
    "> for Retention on A/B Test output\n",
    "> \n",
    "> using Machine Learning model"
   ]
  },
  {
   "cell_type": "code",
   "execution_count": 26,
   "id": "d668e81b-2d57-4118-b62d-c4070f6755a4",
   "metadata": {},
   "outputs": [],
   "source": [
    "# Step 1: Importing missing libraries\n",
    "from sklearn.model_selection import train_test_split\n",
    "from sklearn.linear_model import LogisticRegression\n",
    "from sklearn.metrics import roc_auc_score, confusion_matrix, classification_report"
   ]
  },
  {
   "cell_type": "code",
   "execution_count": 28,
   "id": "01e13f5f-ccbf-4b5f-a313-6c97188137d0",
   "metadata": {},
   "outputs": [],
   "source": [
    "# Step 2: Loading data and defining churn model with y and x\n",
    "df = pd.read_csv('simulated_users.csv')\n",
    "\n",
    "X = df[['sessions', 'deposits', 'feature_used']]\n",
    "y = df['churn']\n",
    "\n",
    "X_train, X_test, y_train, y_test = train_test_split(X, y, test_size=0.3, random_state=42)"
   ]
  },
  {
   "cell_type": "code",
   "execution_count": 31,
   "id": "2a07ddf6-efa1-40b6-8e94-6c0db31bde6d",
   "metadata": {},
   "outputs": [
    {
     "name": "stdout",
     "output_type": "stream",
     "text": [
      "AUC: 0.531\n",
      "              precision    recall  f1-score   support\n",
      "\n",
      "           0       0.62      1.00      0.77     13014\n",
      "           1       0.00      0.00      0.00      7986\n",
      "\n",
      "    accuracy                           0.62     21000\n",
      "   macro avg       0.31      0.50      0.38     21000\n",
      "weighted avg       0.38      0.62      0.47     21000\n",
      "\n"
     ]
    },
    {
     "name": "stderr",
     "output_type": "stream",
     "text": [
      "/home/pietro/Documenti/VirtualEnvironments/venvJupyter/lib/python3.13/site-packages/sklearn/metrics/_classification.py:1731: UndefinedMetricWarning: Precision is ill-defined and being set to 0.0 in labels with no predicted samples. Use `zero_division` parameter to control this behavior.\n",
      "  _warn_prf(average, modifier, f\"{metric.capitalize()} is\", result.shape[0])\n",
      "/home/pietro/Documenti/VirtualEnvironments/venvJupyter/lib/python3.13/site-packages/sklearn/metrics/_classification.py:1731: UndefinedMetricWarning: Precision is ill-defined and being set to 0.0 in labels with no predicted samples. Use `zero_division` parameter to control this behavior.\n",
      "  _warn_prf(average, modifier, f\"{metric.capitalize()} is\", result.shape[0])\n",
      "/home/pietro/Documenti/VirtualEnvironments/venvJupyter/lib/python3.13/site-packages/sklearn/metrics/_classification.py:1731: UndefinedMetricWarning: Precision is ill-defined and being set to 0.0 in labels with no predicted samples. Use `zero_division` parameter to control this behavior.\n",
      "  _warn_prf(average, modifier, f\"{metric.capitalize()} is\", result.shape[0])\n"
     ]
    }
   ],
   "source": [
    "# Step 3: Model implementation\n",
    "model = LogisticRegression(max_iter=1000)\n",
    "model.fit(X_train, y_train)\n",
    "\n",
    "y_pred = model.predict(X_test)\n",
    "y_prob = model.predict_proba(X_test)[:, 1]\n",
    "\n",
    "auc = roc_auc_score(y_test, y_prob)\n",
    "print(f\"AUC: {auc:.3f}\")\n",
    "print(classification_report(y_test, y_pred))"
   ]
  },
  {
   "cell_type": "code",
   "execution_count": 33,
   "id": "f7c0e645-d9d0-4044-935e-275a9bc695d2",
   "metadata": {},
   "outputs": [
    {
     "name": "stderr",
     "output_type": "stream",
     "text": [
      "/tmp/ipykernel_7923/2078908096.py:3: FutureWarning: \n",
      "\n",
      "Passing `palette` without assigning `hue` is deprecated and will be removed in v0.14.0. Assign the `y` variable to `hue` and set `legend=False` for the same effect.\n",
      "\n",
      "  sns.barplot(x='Importance', y='Feature', data=coef, palette='coolwarm')\n"
     ]
    },
    {
     "data": {
      "image/png": "[encoded data removed]",
      "text/plain": [
       "<Figure size 640x480 with 1 Axes>"
      ]
     },
     "metadata": {},
     "output_type": "display_data"
    }
   ],
   "source": [
    "# Step 4: Feature importance, and plot\n",
    "coef = pd.DataFrame({'Feature': X.columns, 'Importance': model.coef_[0]})\n",
    "sns.barplot(x='Importance', y='Feature', data=coef, palette='coolwarm')\n",
    "plt.title('Churn Model Feature Importance')\n",
    "plt.savefig('churn_probability.png', bbox_inches='tight')\n",
    "plt.show()"
   ]
  },
  {
   "cell_type": "code",
   "execution_count": null,
   "id": "e2fec880-7c46-4331-a2a6-b26a1b50eeff",
   "metadata": {},
   "outputs": [],
   "source": []
  }
 ],
 "metadata": {
  "kernelspec": {
   "display_name": "Python 3 (ipykernel)",
   "language": "python",
   "name": "python3"
  },
  "language_info": {
   "codemirror_mode": {
    "name": "ipython",
    "version": 3
   },
   "file_extension": ".py",
   "mimetype": "text/x-python",
   "name": "python",
   "nbconvert_exporter": "python",
   "pygments_lexer": "ipython3",
   "version": "3.13.5"
  }
 },
 "nbformat": 4,
 "nbformat_minor": 5
}
